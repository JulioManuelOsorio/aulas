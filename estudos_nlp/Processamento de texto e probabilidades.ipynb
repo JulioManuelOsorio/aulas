{
 "cells": [
  {
   "cell_type": "markdown",
   "id": "674a5afe",
   "metadata": {},
   "source": [
    "# NLP: Processamento de textos e Modelos de Linguagem"
   ]
  },
  {
   "cell_type": "markdown",
   "id": "97604f8f",
   "metadata": {},
   "source": [
    "## Parte 1: Processamento de textos"
   ]
  },
  {
   "cell_type": "markdown",
   "id": "0afb8abb",
   "metadata": {},
   "source": [
    "Primeiro, vamos começar com algumas definições básicas: <br />\n",
    "**Definição 1:** Um **corpus** é um conjunto de textos organizados em datasets. <br />\n",
    "**Definição 2:** Seja $\\mathcal{F}$ uma frase qualquer com $n$ palavras $w_1, ..., w_n$. O conjunto de todas as palavras distintas em $\\mathcal{F}$ é chamado de conjunto de **types**.\n",
    "**Definição 3:** Seja $\\mathcal{F}$ uma frase qualquer com $n$ palavras $w_1, ..., w_n$. O conjunto de todas as palavras em $\\mathcal{F}$, ordenadas pela sequência dada em $\\mathcal{F}$ é chamado de conjunto de **tokens**."
   ]
  },
  {
   "cell_type": "markdown",
   "id": "b9b6aa0a",
   "metadata": {},
   "source": [
    "### Exemplos de tokens e types:"
   ]
  },
  {
   "cell_type": "markdown",
   "id": "58f01235",
   "metadata": {},
   "source": [
    "Frase $\\mathcal{F}$: <br />\n",
    "\"Eu sou eu pois eu digo que sou eu.\" <br />\n",
    "Conjunto de types: {\"Eu\", \"sou\", \"pois\", \"digo\", \"que\"} <br />\n",
    "Conjunto de tokens: {\"Eu\", \"sou\", \"eu\", \"pois\", \"eu\", \"digo\", \"que\", \"sou\", \"eu\"} <br />\n",
    "p.s.: Note que o conjunto de tokens sempre será maior ou igual ao conjunto de types."
   ]
  },
  {
   "cell_type": "markdown",
   "id": "764aa0d9",
   "metadata": {},
   "source": [
    "### Tokenização e separação em types"
   ]
  },
  {
   "cell_type": "code",
   "execution_count": 1,
   "id": "5175eeaf",
   "metadata": {
    "collapsed": true
   },
   "outputs": [
    {
     "name": "stderr",
     "output_type": "stream",
     "text": [
      "[nltk_data] Downloading package punkt to\n",
      "[nltk_data]     C:\\Users\\T-Gamer\\AppData\\Roaming\\nltk_data...\n",
      "[nltk_data]   Package punkt is already up-to-date!\n"
     ]
    }
   ],
   "source": [
    "# Importando os recursos necessários\n",
    "import nltk\n",
    "# nltk.download(\"punkt\")\n",
    "from nltk import tokenize"
   ]
  },
  {
   "cell_type": "code",
   "execution_count": 6,
   "id": "8e3a4285",
   "metadata": {},
   "outputs": [],
   "source": [
    "# Tokenizando e separando em types\n",
    "frase = \"\"\"Eu sou o Bailinho pois eu digo que sou o Bailinho. Se eu não fosse o Bailinho, eu não diria que eu sou o Bailinho.\"\"\"\n",
    "frase = frase.replace(\".\", \"\").replace(\",\", \"\")\n",
    "conjunto_tokens = tokenize.word_tokenize(frase, language = \"portuguese\")\n",
    "conjunto_types = set(conjunto_tokens)"
   ]
  },
  {
   "cell_type": "code",
   "execution_count": 7,
   "id": "2b5cc9a5",
   "metadata": {},
   "outputs": [
    {
     "name": "stdout",
     "output_type": "stream",
     "text": [
      "Conjunto de tokens: ['Eu', 'sou', 'o', 'Bailinho', 'pois', 'eu', 'digo', 'que', 'sou', 'o', 'Bailinho', 'Se', 'eu', 'não', 'fosse', 'o', 'Bailinho', 'eu', 'não', 'diria', 'que', 'eu', 'sou', 'o', 'Bailinho'] \n",
      " Tamanho do conjunto: 25\n",
      "--------------------------------------------------------------------------------------\n",
      "Conjunto de types: {'sou', 'Eu', 'Se', 'eu', 'pois', 'diria', 'que', 'não', 'o', 'digo', 'Bailinho', 'fosse'} \n",
      " Tamanho do conjunto: 12\n"
     ]
    }
   ],
   "source": [
    "# Printando os conjuntos e seus tamanhos\n",
    "print(f\"Conjunto de tokens: {conjunto_tokens} \\n Tamanho do conjunto: {len(conjunto_tokens)}\")\n",
    "print(\"--------------------------------------------------------------------------------------\")\n",
    "print(f\"Conjunto de types: {conjunto_types} \\n Tamanho do conjunto: {len(conjunto_types)}\")"
   ]
  },
  {
   "cell_type": "markdown",
   "id": "622d4e6e",
   "metadata": {},
   "source": [
    "### Lematização e radicalização"
   ]
  },
  {
   "cell_type": "markdown",
   "id": "7a28844a",
   "metadata": {},
   "source": [
    "**Definição 4:** Um **lexema** é uma unidade de significado, representado por um conjunto de formas relacionadas <br />\n",
    "**Definição 5:** Um **lema** é uma forma canônica de representar um lexema <br />\n",
    "**Definição 6:** Uma **raiz** é o morfema básico"
   ]
  },
  {
   "cell_type": "markdown",
   "id": "0e09a720",
   "metadata": {},
   "source": [
    "#### Exemplos:\n",
    "Lexema = {\"estar\", \"estive\", \"estou\", \"está\", ...} <br />\n",
    "Lema = \"estar\" <br />\n",
    "Raiz = \"est\" "
   ]
  },
  {
   "cell_type": "markdown",
   "id": "c00f74a4",
   "metadata": {},
   "source": [
    "#### Lematização"
   ]
  },
  {
   "cell_type": "code",
   "execution_count": 4,
   "id": "2b55def3",
   "metadata": {},
   "outputs": [
    {
     "name": "stdout",
     "output_type": "stream",
     "text": [
      "['How', 'I', 'wish', 'you', 'were', 'here', '', 'We', \"'re\", 'just', 'two', 'lost', 'soul', '', 'Swimming', 'in', 'a', 'fish', 'bowl', 'year', 'after', 'year']\n"
     ]
    }
   ],
   "source": [
    "# Importando o recurso necessário\n",
    "# nltk.download(\"wordnet\")\n",
    "from nltk.stem import WordNetLemmatizer\n",
    "# Lematizando\n",
    "lemmatizer = WordNetLemmatizer()\n",
    "sentenca_tokens = tokenize.word_tokenize(\"How I wish you were here. We're just two lost souls. Swimming in a fish bowl year after year\")\n",
    "lemas = [lemmatizer.lemmatize(token.replace(\".\", \"\").replace(\",\", \"\")) for token in sentenca_tokens]\n",
    "print(lemas)"
   ]
  },
  {
   "cell_type": "markdown",
   "id": "7b9e8cba",
   "metadata": {},
   "source": [
    "#### Stemming (radicalização)"
   ]
  },
  {
   "cell_type": "code",
   "execution_count": 5,
   "id": "0cfe1591",
   "metadata": {},
   "outputs": [
    {
     "name": "stdout",
     "output_type": "stream",
     "text": [
      "eu\n",
      "sou\n",
      "o\n",
      "bail\n",
      "poi\n",
      "eu\n",
      "dig\n",
      "que\n",
      "sou\n"
     ]
    }
   ],
   "source": [
    "# Importando o recurso necessário\n",
    "#nltk.download(\"rslp\") # Removedor de sufixos da língua portuguesa\n",
    "# Radicalizando:\n",
    "raiz = nltk.stem.RSLPStemmer()\n",
    "for palavra in ['Eu', 'sou', 'o', 'Bailinho', 'pois', 'eu', 'digo', 'que', 'sou']:\n",
    "    print(raiz.stem(palavra))"
   ]
  },
  {
   "cell_type": "markdown",
   "id": "b36a82da",
   "metadata": {},
   "source": [
    "## Parte 2: Modelos de linguagem"
   ]
  },
  {
   "cell_type": "markdown",
   "id": "1694746c",
   "metadata": {},
   "source": [
    "### Probabilidades de palavras"
   ]
  },
  {
   "cell_type": "markdown",
   "id": "f51d0114",
   "metadata": {},
   "source": [
    "#### Probabilidade da próxima palavra"
   ]
  },
  {
   "cell_type": "markdown",
   "id": "f902b8a2",
   "metadata": {},
   "source": [
    "Seja um conjunto de palavras $w_1, ..., w_{n-1}$. A probabilidade da próxima palavra ser uma palavra qualquer $w$ é dada por $P(w|w_1, ..., w_{n-1})$."
   ]
  },
  {
   "cell_type": "markdown",
   "id": "e46d382b",
   "metadata": {},
   "source": [
    "#### Probabilidade de uma frase"
   ]
  },
  {
   "cell_type": "markdown",
   "id": "d0ab15eb",
   "metadata": {},
   "source": [
    "Seja uma frase composta pela sequência $w_1, ..., w_n$. A probabilidade dessa frase ocorrer é dada por $P(w_1, ..., w_n)$"
   ]
  },
  {
   "cell_type": "markdown",
   "id": "174d5be8",
   "metadata": {},
   "source": [
    "#### Regra da cadeia"
   ]
  },
  {
   "cell_type": "markdown",
   "id": "7458f063",
   "metadata": {},
   "source": [
    "Usando alguns conhecimentos de probabilidade, temos que:\n",
    "$$ P(w_1, ..., w_n) = P(w_2|w_1)P(w_3|w_1, w_2) \\dots P(w_n|w_1, ..., w_{n-1}) $$"
   ]
  },
  {
   "cell_type": "markdown",
   "id": "e24ea202",
   "metadata": {},
   "source": [
    "#### Probabilidade estimada de uma palavra"
   ]
  },
  {
   "cell_type": "markdown",
   "id": "0ca858db",
   "metadata": {},
   "source": [
    "Considere um corpus. Um modelo de probabilidade para linguagem estima a probabilidade de uma próxima palavra usando a seguinte fórmula:\n",
    "$$ P(w|w_1, ..., w_{n-1}) = \\frac{contar(w_1, ..., w_{n-1}, w_n)}{contar(w_1, ..., w_{n-1})} $$"
   ]
  },
  {
   "cell_type": "markdown",
   "id": "ed9f5eb6",
   "metadata": {},
   "source": [
    "##### Exemplo:\n"
   ]
  },
  {
   "cell_type": "markdown",
   "id": "93c46b5b",
   "metadata": {},
   "source": [
    "$$ P(João|Eu, sou, o) = \\frac{contar(Eu, sou, o, João)}{contar(Eu, sou, o)} $$ <br />\n",
    "$$ P(Bailinho|Eu, sou, o) = \\frac{contar(Eu, sou, o, Bailinho)}{contar(Eu, sou, o)} $$\n",
    "Pense em qual frase é mais provável: \"Eu sou o Bailinho\" ou \"Eu sou o João\""
   ]
  }
 ],
 "metadata": {
  "kernelspec": {
   "display_name": "Python 3 (ipykernel)",
   "language": "python",
   "name": "python3"
  },
  "language_info": {
   "codemirror_mode": {
    "name": "ipython",
    "version": 3
   },
   "file_extension": ".py",
   "mimetype": "text/x-python",
   "name": "python",
   "nbconvert_exporter": "python",
   "pygments_lexer": "ipython3",
   "version": "3.8.8"
  }
 },
 "nbformat": 4,
 "nbformat_minor": 5
}
